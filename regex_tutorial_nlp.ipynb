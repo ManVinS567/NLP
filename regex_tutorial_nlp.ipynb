{
 "cells": [
  {
   "cell_type": "code",
   "execution_count": 2,
   "id": "b7d0a761",
   "metadata": {},
   "outputs": [],
   "source": [
    "import re\n",
    "# inbuilt module in python for regular expressions"
   ]
  },
  {
   "cell_type": "markdown",
   "id": "5758c329",
   "metadata": {},
   "source": [
    "go to below website for checking regex code\n",
    "\n",
    "https://regex101.com/"
   ]
  },
  {
   "cell_type": "code",
   "execution_count": 3,
   "id": "87bdbdd4",
   "metadata": {},
   "outputs": [],
   "source": [
    "chat1 = 'vinay you ask lot of questions 1235678912, abc@xyz.com'\n",
    "chat2 = 'vinay here it is: (123)-567-8912, abc@xyz.com'\n",
    "chat3 = 'vinay: yes, phone: 1235678912 email: abc@xyz.com'"
   ]
  },
  {
   "cell_type": "markdown",
   "id": "b27c577b",
   "metadata": {},
   "source": [
    "## to get phone number"
   ]
  },
  {
   "cell_type": "markdown",
   "id": "83109da1",
   "metadata": {},
   "source": [
    "### re.findall(pattern, string, flags=0)\n",
    "\n",
    "Returns all non-overlapping matches of pattern in string, as a list of strings or tuples. The string is scanned left-to-right, and matches are returned in the order found. Empty matches are included in the result."
   ]
  },
  {
   "cell_type": "code",
   "execution_count": 7,
   "id": "67fbc692",
   "metadata": {},
   "outputs": [
    {
     "data": {
      "text/plain": [
       "['1235678912']"
      ]
     },
     "execution_count": 7,
     "metadata": {},
     "output_type": "execute_result"
    }
   ],
   "source": [
    "# \\d: Matches any Unicode decimal digit (that is, any character in Unicode character category [Nd]). \n",
    "# This includes [0-9], and also many other digit characters. \n",
    "# If the ASCII flag is used only [0-9] is matched.\n",
    "\n",
    "# {m} Specifies that exactly m copies of the previous RE should be matched;\n",
    "# fewer matches cause the entire RE not to match. \n",
    "# For example, a{6} will match exactly six 'a' characters, but not five.\n",
    "\n",
    "# chat1 pattern to get the phone number\n",
    "pattern = '\\d{10}' # applicable for chat1 only\n",
    "\n",
    "matches = re.findall(pattern, chat1) # store the match in matches variable\n",
    "matches # print the matches"
   ]
  },
  {
   "cell_type": "code",
   "execution_count": 8,
   "id": "5c26d246",
   "metadata": {},
   "outputs": [],
   "source": [
    "# chat2 re pattern to find the phone number"
   ]
  },
  {
   "cell_type": "code",
   "execution_count": 13,
   "id": "1e7bc825",
   "metadata": {},
   "outputs": [
    {
     "data": {
      "text/plain": [
       "['123', '567', '891']"
      ]
     },
     "execution_count": 13,
     "metadata": {},
     "output_type": "execute_result"
    }
   ],
   "source": [
    "# bracket has a spatial meaning to capture everything\n",
    "\n",
    "\n",
    "pattern = '(\\d{3})'\n",
    "\n",
    "matches = re.findall(pattern, chat2)\n",
    "matches\n",
    "\n",
    "# output gives the three digit pattern instead of three digits in brackets"
   ]
  },
  {
   "cell_type": "code",
   "execution_count": 12,
   "id": "121ad942",
   "metadata": {},
   "outputs": [
    {
     "data": {
      "text/plain": [
       "['(123)']"
      ]
     },
     "execution_count": 12,
     "metadata": {},
     "output_type": "execute_result"
    }
   ],
   "source": [
    "# use escape character '\\' to use it as normal bracket\n",
    "pattern = '\\(\\d{3}\\)'\n",
    "\n",
    "matches = re.findall(pattern, chat2)\n",
    "matches"
   ]
  },
  {
   "cell_type": "code",
   "execution_count": 14,
   "id": "08a78bc7",
   "metadata": {},
   "outputs": [
    {
     "data": {
      "text/plain": [
       "['(123)-567-8912']"
      ]
     },
     "execution_count": 14,
     "metadata": {},
     "output_type": "execute_result"
    }
   ],
   "source": [
    "# continue with the pattern to get phone number in chat2\n",
    "pattern = '\\(\\d{3}\\)-\\d{3}-\\d{4}'\n",
    "\n",
    "matches = re.findall(pattern, chat2)\n",
    "matches"
   ]
  },
  {
   "cell_type": "code",
   "execution_count": 17,
   "id": "76dd5a02",
   "metadata": {},
   "outputs": [
    {
     "name": "stdout",
     "output_type": "stream",
     "text": [
      "match in chat1: ['1235678912']\n",
      "match in chat2: ['(123)-567-8912']\n",
      "match in chat3: ['1235678912']\n"
     ]
    }
   ],
   "source": [
    "# now to find both the India and US phone numbers in one go\n",
    "# use the OR '|' re special character\n",
    "\n",
    "pattern = '\\d{10}|\\(\\d{3}\\)-\\d{3}-\\d{4}' \n",
    "# dont use space or anything inside quotations\n",
    "\n",
    "matches = re.findall(pattern, chat1)\n",
    "print(f\"match in chat1: {matches}\")\n",
    "matches = re.findall(pattern, chat2)\n",
    "print(f\"match in chat2: {matches}\")\n",
    "matches = re.findall(pattern, chat3)\n",
    "print(f\"match in chat3: {matches}\")"
   ]
  },
  {
   "cell_type": "markdown",
   "id": "168e37d0",
   "metadata": {},
   "source": [
    "## to get email"
   ]
  },
  {
   "cell_type": "markdown",
   "id": "d179336d",
   "metadata": {},
   "source": [
    ". : (Dot.) In the default mode, this matches any character except a newline. If the DOTALL flag has been specified, this matches any character including a newline.\n",
    "\n",
    "\\* : Causes the resulting RE to match 0 or more repetitions of the preceding RE, as many repetitions as are possible. ab* will match ‘a’, ‘ab’, or ‘a’ followed by any number of ‘b’s.\n",
    "\n",
    "\\+ : Causes the resulting RE to match 1 or more repetitions of the preceding RE. ab+ will match ‘a’ followed by any non-zero number of ‘b’s; it will not match just ‘a’.\n",
    "\n",
    "[] : Used to indicate a set of characters. In a set:\n",
    "\n",
    "    - Characters can be listed individually, e.g. [amk] will match 'a', 'm', or 'k'.\n",
    "    \n",
    "    - Ranges of characters can be indicated by giving two characters and separating them by a '-', for example [a-z] will match any lowercase ASCII letter, [0-5][0-9] will match all the two-digits numbers from 00 to 59, and [0-9A-Fa-f] will match any hexadecimal digit. If - is escaped (e.g. [a\\-z]) or if it’s placed as the first or last character (e.g. [-a] or [a-]), it will match a literal '-'.\n",
    "    \n",
    "    - Special characters lose their special meaning inside sets. For example, [(+*)] will match any of the literal characters '(', '+', '*', or ')'."
   ]
  },
  {
   "cell_type": "code",
   "execution_count": 23,
   "id": "66c5e9c2",
   "metadata": {},
   "outputs": [
    {
     "data": {
      "text/plain": [
       "['abc@xyz.com']"
      ]
     },
     "execution_count": 23,
     "metadata": {},
     "output_type": "execute_result"
    }
   ],
   "source": [
    "pattern_email = '[a-zA-Z0-9_]*@[a-zA-Z0-9]*.[a-zA-Z]*'\n",
    "\n",
    "match_email = re.findall(pattern_email, chat1)\n",
    "match_email"
   ]
  },
  {
   "cell_type": "markdown",
   "id": "a67ae540",
   "metadata": {},
   "source": [
    "## to find order no."
   ]
  },
  {
   "cell_type": "code",
   "execution_count": 24,
   "id": "12343aa1",
   "metadata": {},
   "outputs": [],
   "source": [
    "bot1 = 'vinay: Hello, I am having an issue with my order # 412889912'\n",
    "bot2 = 'vinay: I have a problem with my order number 412889912'\n",
    "bot3 = 'vinay: My order 412889912 is having an issue, I was charged 300rs when online it says 200 rs'"
   ]
  },
  {
   "cell_type": "markdown",
   "id": "7ed7ad68",
   "metadata": {},
   "source": [
    "- a[^\\d] - match anything upto one character after a\n",
    "- a[^\\d]* - match anything after a until it finds digit"
   ]
  },
  {
   "cell_type": "code",
   "execution_count": 27,
   "id": "0a65c21c",
   "metadata": {},
   "outputs": [
    {
     "data": {
      "text/plain": [
       "['order # 412889912']"
      ]
     },
     "execution_count": 27,
     "metadata": {},
     "output_type": "execute_result"
    }
   ],
   "source": [
    "pattern = 'order[^\\d]*\\d*'\n",
    "\n",
    "order = re.findall(pattern, bot1)\n",
    "order"
   ]
  },
  {
   "cell_type": "markdown",
   "id": "b06ac577",
   "metadata": {},
   "source": [
    "The above pattern returns the entire match, but we need only order # "
   ]
  },
  {
   "cell_type": "code",
   "execution_count": 30,
   "id": "486b1da3",
   "metadata": {},
   "outputs": [
    {
     "name": "stdout",
     "output_type": "stream",
     "text": [
      "['412889912']\n",
      "['412889912']\n",
      "['412889912']\n"
     ]
    }
   ],
   "source": [
    "# to get only the order # \n",
    "\n",
    "# use () group character to return only the order #\n",
    "\n",
    "pattern = 'order[^\\d]*(\\d*)'\n",
    "\n",
    "order = re.findall(pattern, bot1)\n",
    "print(order)\n",
    "\n",
    "order = re.findall(pattern, bot2)\n",
    "print(order)\n",
    "\n",
    "order = re.findall(pattern, bot3)\n",
    "print(order)"
   ]
  },
  {
   "cell_type": "markdown",
   "id": "5a28f0ab",
   "metadata": {},
   "source": [
    "## to get key information about a person"
   ]
  },
  {
   "cell_type": "code",
   "execution_count": 31,
   "id": "39186185",
   "metadata": {},
   "outputs": [],
   "source": [
    "text = '''Born\tElon Reeve Musk\n",
    "June 28, 1971 (age 51)\n",
    "Pretoria, Transvaal, South Africa\n",
    "Education\tUniversity of Pennsylvania (BA, BS)\n",
    "Title\t\n",
    "Founder, CEO and chief engineer of SpaceX\n",
    "CEO and product architect of Tesla, Inc.\n",
    "Owner, CTO and chairman of Twitter\n",
    "President of the Musk Foundation\n",
    "Founder of the Boring Company, X Corp. and X.AI\n",
    "Co-founder of Neuralink, OpenAI, Zip2 and X.com (part of PayPal)\n",
    "Spouses\t\n",
    "Justine Wilson\n",
    "​\n",
    "​(m. 2000; div. 2008)​\n",
    "Talulah Riley\n",
    "​\n",
    "​(m. 2010; div. 2012)​\n",
    "​\n",
    "​(m. 2013; div. 2016)​\n",
    "Partner\tGrimes (2018–2021)[1]\n",
    "Children\t10[a][3]\n",
    "Parents\t\n",
    "Errol Musk (father)\n",
    "Maye Musk (mother)\n",
    "Family\tMusk family'''"
   ]
  },
  {
   "cell_type": "code",
   "execution_count": 32,
   "id": "f0f3f6d0",
   "metadata": {},
   "outputs": [
    {
     "data": {
      "text/plain": [
       "['51']"
      ]
     },
     "execution_count": 32,
     "metadata": {},
     "output_type": "execute_result"
    }
   ],
   "source": [
    "# to get the age\n",
    "\n",
    "pattern = 'age (\\d*)'\n",
    "\n",
    "age = re.findall(pattern, text)\n",
    "age"
   ]
  },
  {
   "cell_type": "code",
   "execution_count": 38,
   "id": "57baaded",
   "metadata": {},
   "outputs": [
    {
     "data": {
      "text/plain": [
       "'Elon Reeve Musk'"
      ]
     },
     "execution_count": 38,
     "metadata": {},
     "output_type": "execute_result"
    }
   ],
   "source": [
    "# to retrieve the text after Born till the endline\n",
    "\n",
    "pattern = 'Born(.*)\\n'\n",
    "\n",
    "full_name = re.findall(pattern, text) # by default .findall doesnot match \\n\n",
    "full_name[0].strip() # strip removes whitespaces around age."
   ]
  },
  {
   "cell_type": "code",
   "execution_count": 39,
   "id": "e52c0bbc",
   "metadata": {},
   "outputs": [
    {
     "data": {
      "text/plain": [
       "'June 28, 1971'"
      ]
     },
     "execution_count": 39,
     "metadata": {},
     "output_type": "execute_result"
    }
   ],
   "source": [
    "# to retrieve birth date\n",
    "\n",
    "pattern = 'Born.*\\n(.*)\\(age'\n",
    "\n",
    "birth_date = re.findall(pattern, text) # by default .findall doesnot match \\n\n",
    "birth_date[0].strip() # strip removes whitespaces around date"
   ]
  },
  {
   "cell_type": "code",
   "execution_count": 40,
   "id": "7c0d2d47",
   "metadata": {},
   "outputs": [
    {
     "data": {
      "text/plain": [
       "'Pretoria, Transvaal, South Africa'"
      ]
     },
     "execution_count": 40,
     "metadata": {},
     "output_type": "execute_result"
    }
   ],
   "source": [
    "# to retrieve the birth place\n",
    "\n",
    "pattern = '\\(age.*\\n(.*)'\n",
    "\n",
    "birth_place = re.findall(pattern, text) # by default .findall doesnot match \\n\n",
    "birth_place[0].strip() # strip removes whitespaces around place"
   ]
  },
  {
   "cell_type": "markdown",
   "id": "5337386d",
   "metadata": {},
   "source": [
    "## Python function to get all the details using above patterns"
   ]
  },
  {
   "cell_type": "code",
   "execution_count": 41,
   "id": "d9c4c5db",
   "metadata": {},
   "outputs": [],
   "source": [
    "def get_pattern_match(pattern, text):\n",
    "    matches = re.findall(pattern, text)\n",
    "    if matches:\n",
    "        return matches[0]"
   ]
  },
  {
   "cell_type": "code",
   "execution_count": 42,
   "id": "06f9d549",
   "metadata": {},
   "outputs": [
    {
     "data": {
      "text/plain": [
       "'Pretoria, Transvaal, South Africa'"
      ]
     },
     "execution_count": 42,
     "metadata": {},
     "output_type": "execute_result"
    }
   ],
   "source": [
    "# call the function\n",
    "get_pattern_match(pattern = '\\(age.*\\n(.*)', text = text)"
   ]
  },
  {
   "cell_type": "code",
   "execution_count": 44,
   "id": "8b724697",
   "metadata": {},
   "outputs": [],
   "source": [
    "# python function to retrieve all details\n",
    "\n",
    "def get_personal_information(text):\n",
    "    age = get_pattern_match(pattern = 'age (\\d*)', text = text)\n",
    "    full_name = get_pattern_match(pattern = 'Born(.*)\\n', text = text)\n",
    "    birth_date = get_pattern_match(pattern = 'Born.*\\n(.*)\\(age', text = text)\n",
    "    birth_place = get_pattern_match(pattern = '\\(age.*\\n(.*)', text = text)\n",
    "    \n",
    "    return{\n",
    "        'age': int(age),\n",
    "        'name' : full_name.strip(),\n",
    "        'birth_date' : birth_date.strip(),\n",
    "        'birth_place' : birth_place.strip()\n",
    "    }"
   ]
  },
  {
   "cell_type": "code",
   "execution_count": 45,
   "id": "581a2b60",
   "metadata": {},
   "outputs": [
    {
     "data": {
      "text/plain": [
       "{'age': 51,\n",
       " 'name': 'Elon Reeve Musk',\n",
       " 'birth_date': 'June 28, 1971',\n",
       " 'birth_place': 'Pretoria, Transvaal, South Africa'}"
      ]
     },
     "execution_count": 45,
     "metadata": {},
     "output_type": "execute_result"
    }
   ],
   "source": [
    "get_personal_information(text)"
   ]
  },
  {
   "cell_type": "code",
   "execution_count": 46,
   "id": "e55a1112",
   "metadata": {},
   "outputs": [],
   "source": [
    "text2 = '''Born\tMukesh Dhirubhai Ambani\n",
    "19 April 1957 (age 66)\n",
    "Aden, Colony of Aden\n",
    "(present-day Yemen)[1][2]\n",
    "Nationality\tIndian\n",
    "Alma mater\t\n",
    "St. Xavier's College, Mumbai\n",
    "Institute of Chemical Technology (B.E.)\n",
    "Occupation(s)\tChairman and MD, Reliance Industries\n",
    "Spouse\tNita Ambani ​(m. 1985)​[3]\n",
    "Children\t3\n",
    "Parent\t\n",
    "Dhirubhai Ambani (father)\n",
    "Relatives\tAnil Ambani (brother)\n",
    "Tina Ambani (sister-in-law)'''"
   ]
  },
  {
   "cell_type": "code",
   "execution_count": 47,
   "id": "7ea0c6d3",
   "metadata": {},
   "outputs": [
    {
     "data": {
      "text/plain": [
       "{'age': 66,\n",
       " 'name': 'Mukesh Dhirubhai Ambani',\n",
       " 'birth_date': '19 April 1957',\n",
       " 'birth_place': 'Aden, Colony of Aden'}"
      ]
     },
     "execution_count": 47,
     "metadata": {},
     "output_type": "execute_result"
    }
   ],
   "source": [
    "get_personal_information(text2)"
   ]
  },
  {
   "cell_type": "code",
   "execution_count": null,
   "id": "f1c3cb18",
   "metadata": {},
   "outputs": [],
   "source": []
  }
 ],
 "metadata": {
  "kernelspec": {
   "display_name": "Python 3 (ipykernel)",
   "language": "python",
   "name": "python3"
  },
  "language_info": {
   "codemirror_mode": {
    "name": "ipython",
    "version": 3
   },
   "file_extension": ".py",
   "mimetype": "text/x-python",
   "name": "python",
   "nbconvert_exporter": "python",
   "pygments_lexer": "ipython3",
   "version": "3.8.10"
  }
 },
 "nbformat": 4,
 "nbformat_minor": 5
}
